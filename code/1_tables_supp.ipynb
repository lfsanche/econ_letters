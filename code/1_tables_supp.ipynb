{
 "cells": [
  {
   "cell_type": "code",
   "execution_count": null,
   "metadata": {},
   "outputs": [],
   "source": [
    "import pandas as pd\n",
    "import numpy as np\n",
    "\n",
    "pd.set_option(\"display.precision\", 2)\n",
    "pd.set_option('display.max_columns', None)"
   ]
  },
  {
   "cell_type": "markdown",
   "metadata": {},
   "source": [
    "__________\n",
    "# Load data"
   ]
  },
  {
   "cell_type": "code",
   "execution_count": null,
   "metadata": {},
   "outputs": [],
   "source": [
    "df = pd.read_csv('../data/data.csv')"
   ]
  },
  {
   "cell_type": "code",
   "execution_count": null,
   "metadata": {},
   "outputs": [],
   "source": [
    "df.head()"
   ]
  },
  {
   "cell_type": "markdown",
   "metadata": {},
   "source": [
    "__________"
   ]
  },
  {
   "cell_type": "code",
   "execution_count": 1,
   "metadata": {},
   "outputs": [],
   "source": [
    "names = [\"Dale-Chall\", \"\\hspace{3mm}American Economic Review\",\"\\hspace{3mm}Econometrica\",\n",
    "        \"\\hspace{3mm}Journal of Political Economy\", \"\\hspace{3mm}Review Economic Studies\",\n",
    "        \"\\hspace{3mm}The Quarterly Journal of Economics\"\n",
    "        ]\n",
    "\n",
    "vars = [\"dale_chall\", 'aer_dale','ecm_dale','jpe_dale','res_dale',\n",
    "        'qje_dale'\n",
    "        ]"
   ]
  },
  {
   "cell_type": "code",
   "execution_count": null,
   "metadata": {},
   "outputs": [],
   "source": [
    "file = '../tables/table_sum2.tex'\n",
    "\n",
    "table3 = table_summarize_descriptive(df,vars,names)\n",
    "\n",
    "# table3 = pd.DataFrame(np.insert(table3.values, 6, values=' ', axis=0))\n",
    "# table3 = pd.DataFrame(np.insert(table3.values, 10, values=' ', axis=0))\n",
    "# table3 = pd.DataFrame(np.insert(table3.values, 17, values=' ', axis=0))\n",
    "# table3 = pd.DataFrame(np.insert(table3.values, 23, values=' ', axis=0))\n",
    "\n",
    "# table3.loc[6][0]='\\\\textbf{Abstract-related variables}'\n",
    "# table3.loc[10][0]='\\\\textbf{Paper-related variables}'\n",
    "# table3.loc[17][0]='\\\\textbf{Journals}'\n",
    "# table3.loc[23][0]='\\\\textbf{Other variables}'\n",
    "\n",
    "table3.columns=['Variables','Mean','SD','Min','Max','N']\n",
    "\n",
    "table3.to_latex(buf=file, index=False, column_format='lccccc',escape=False)\n",
    "\n",
    "table3"
   ]
  }
 ],
 "metadata": {
  "kernelspec": {
   "display_name": "base",
   "language": "python",
   "name": "python3"
  },
  "language_info": {
   "codemirror_mode": {
    "name": "ipython",
    "version": 3
   },
   "file_extension": ".py",
   "mimetype": "text/x-python",
   "name": "python",
   "nbconvert_exporter": "python",
   "pygments_lexer": "ipython3",
   "version": "3.11.5"
  }
 },
 "nbformat": 4,
 "nbformat_minor": 2
}
