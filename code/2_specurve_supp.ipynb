{
 "cells": [
  {
   "cell_type": "code",
   "execution_count": null,
   "metadata": {},
   "outputs": [],
   "source": [
    "import yaml\n",
    "import platform, stata_setup\n",
    "\n",
    "try:\n",
    "    stata_setup.config(\"C:/Program Files/Stata18/\", \"se\")\n",
    "\n",
    "except:\n",
    "    print('Stata18 is not installed!')\n",
    "    \n",
    "    if platform.system()=='Windows':\n",
    "        stata_setup.config(\"C:/Program Files/Stata17/\", \"mp\")  \n",
    "    elif platform.system()=='Darwin':\n",
    "        stata_setup.config(\"/Applications/Stata/\", \"mp\")\n",
    "    else: \n",
    "        stata_setup.config(\"/usr/local/stata17/\", \"mp\")"
   ]
  },
  {
   "cell_type": "code",
   "execution_count": null,
   "metadata": {},
   "outputs": [],
   "source": [
    "%%stata\n",
    "\n",
    "clear all\n",
    "use \"../data/data\", clear\n",
    "egen journal1 = group(journal)"
   ]
  },
  {
   "cell_type": "markdown",
   "metadata": {},
   "source": [
    "____\n",
    "# Figure 1: Specifcation Curves - Dale-Chall Readability Score\n",
    "### Supplemental Materials | page 10"
   ]
  },
  {
   "cell_type": "code",
   "execution_count": null,
   "metadata": {},
   "outputs": [],
   "source": [
    "# File name\n",
    "file_path = '../code/readability_graph_specurve.yml'\n",
    "\n",
    "# Read, modify, and save the file\n",
    "with open(file_path, 'r') as file:\n",
    "    lines = file.readlines()\n",
    "\n",
    "# Modify the target line\n",
    "modified_lines = []\n",
    "for line in lines:\n",
    "    stripped_line = line.strip()\n",
    "    if stripped_line.startswith(\"#     - ln(Dale chall): log_dale_chall\"):\n",
    "        # Uncomment the line\n",
    "        modified_lines.append(line.replace(\"#     -\", \"-\"))  # Replace `#-` with `-`\n",
    "    else:\n",
    "        modified_lines.append(line)\n",
    "\n",
    "# Write the modified content back to the file\n",
    "with open(file_path, 'w') as file:\n",
    "    file.writelines(modified_lines)\n",
    "\n",
    "print(\"Line uncommented successfully if it was commented!\")"
   ]
  },
  {
   "cell_type": "markdown",
   "metadata": {},
   "source": [
    "## Figure 1 (a)"
   ]
  },
  {
   "cell_type": "code",
   "execution_count": null,
   "metadata": {},
   "outputs": [],
   "source": [
    "# File name\n",
    "file_path = '../code/readability_graph_specurve.yml'\n",
    "\n",
    "# Read, modify, and save the file\n",
    "with open(file_path, 'r') as file:\n",
    "    lines = file.readlines()\n",
    "\n",
    "# Modify the target line\n",
    "modified_lines = []\n",
    "for line in lines:\n",
    "    stripped_line = line.strip()\n",
    "    if stripped_line.startswith(\"#     - Only female: only_female\"):\n",
    "        # Uncomment the line\n",
    "        modified_lines.append(line.replace(\"#     -\", \"-\"))  # Replace `#-` with `-`\n",
    "    else:\n",
    "        modified_lines.append(line)\n",
    "\n",
    "# Write the modified content back to the file\n",
    "with open(file_path, 'w') as file:\n",
    "    file.writelines(modified_lines)\n",
    "\n",
    "print(\"Line uncommented successfully if it was commented!\")"
   ]
  },
  {
   "cell_type": "code",
   "execution_count": null,
   "metadata": {},
   "outputs": [],
   "source": [
    "%%stata\n",
    "quietly specurve using \"readability_graph_specurve.yml\", desc noci99 width(8) height(10) relativesize(0.4) scale(0.8) title(\"Specification Curve Analsyis of Only Female\")"
   ]
  },
  {
   "cell_type": "code",
   "execution_count": null,
   "metadata": {},
   "outputs": [],
   "source": [
    "# File name\n",
    "file_path = '../code/readability_graph_specurve.yml'\n",
    "\n",
    "# Read, modify, and save the file\n",
    "with open(file_path, 'r') as file:\n",
    "    lines = file.readlines()\n",
    "\n",
    "# Modify the target line\n",
    "modified_lines = []\n",
    "for line in lines:\n",
    "    if line.strip() == \"- Only female: only_female\":\n",
    "        modified_lines.append(f\"#     {line}\")  # Comment out the line\n",
    "    else:\n",
    "        modified_lines.append(line)\n",
    "\n",
    "# Write the modified content back to the file\n",
    "with open(file_path, 'w') as file:\n",
    "    file.writelines(modified_lines)\n",
    "\n",
    "print(\"Line commented successfully!\")"
   ]
  },
  {
   "cell_type": "markdown",
   "metadata": {},
   "source": [
    "## Figure 1 (b)"
   ]
  },
  {
   "cell_type": "code",
   "execution_count": null,
   "metadata": {},
   "outputs": [],
   "source": [
    "%%stata\n",
    "clear all\n",
    "use \"../data/data\", clear\n",
    "egen journal1 = group(journal)"
   ]
  },
  {
   "cell_type": "code",
   "execution_count": null,
   "metadata": {},
   "outputs": [],
   "source": [
    "# File name\n",
    "file_path = '../code/readability_graph_specurve.yml'\n",
    "\n",
    "# Read, modify, and save the file\n",
    "with open(file_path, 'r') as file:\n",
    "    lines = file.readlines()\n",
    "\n",
    "# Modify the target line\n",
    "modified_lines = []\n",
    "for line in lines:\n",
    "    stripped_line = line.strip()\n",
    "    if stripped_line.startswith(\"#     - Proportion of women: prop_women\"):\n",
    "        # Uncomment the line\n",
    "        modified_lines.append(line.replace(\"#     -\", \"-\"))  # Replace `#-` with `-`\n",
    "    else:\n",
    "        modified_lines.append(line)\n",
    "\n",
    "# Write the modified content back to the file\n",
    "with open(file_path, 'w') as file:\n",
    "    file.writelines(modified_lines)\n",
    "\n",
    "print(\"Line uncommented successfully if it was commented!\")"
   ]
  },
  {
   "cell_type": "code",
   "execution_count": null,
   "metadata": {},
   "outputs": [],
   "source": [
    "%%stata\n",
    "quietly specurve using \"readability_graph_specurve.yml\", desc noci99 width(8) height(10) relativesize(0.4) scale(0.7) title(\"Specification Curve Analsyis of Proportion of Women\")"
   ]
  },
  {
   "cell_type": "code",
   "execution_count": null,
   "metadata": {},
   "outputs": [],
   "source": [
    "# File name\n",
    "file_path = '../code/readability_graph_specurve.yml'\n",
    "\n",
    "# Read, modify, and save the file\n",
    "with open(file_path, 'r') as file:\n",
    "    lines = file.readlines()\n",
    "\n",
    "# Modify the target line\n",
    "modified_lines = []\n",
    "for line in lines:\n",
    "    if line.strip() == \"- Proportion of women: prop_women\":\n",
    "        modified_lines.append(f\"#     {line}\")  # Comment out the line\n",
    "    else:\n",
    "        modified_lines.append(line)\n",
    "\n",
    "# Write the modified content back to the file\n",
    "with open(file_path, 'w') as file:\n",
    "    file.writelines(modified_lines)\n",
    "\n",
    "print(\"Line commented successfully!\")"
   ]
  },
  {
   "cell_type": "markdown",
   "metadata": {},
   "source": [
    "## Figure 1 (c)"
   ]
  },
  {
   "cell_type": "code",
   "execution_count": null,
   "metadata": {},
   "outputs": [],
   "source": [
    "%%stata\n",
    "clear all\n",
    "use \"../data/data\", clear\n",
    "egen journal1 = group(journal)"
   ]
  },
  {
   "cell_type": "code",
   "execution_count": null,
   "metadata": {},
   "outputs": [],
   "source": [
    "# File name\n",
    "file_path = '../code/readability_graph_specurve.yml'\n",
    "\n",
    "# Read, modify, and save the file\n",
    "with open(file_path, 'r') as file:\n",
    "    lines = file.readlines()\n",
    "\n",
    "# Modify the target line\n",
    "modified_lines = []\n",
    "for line in lines:\n",
    "    stripped_line = line.strip()\n",
    "    if stripped_line.startswith(\"#     - Only male: only_male\"):\n",
    "        # Uncomment the line\n",
    "        modified_lines.append(line.replace(\"#     -\", \"-\"))  # Replace `#-` with `-`\n",
    "    else:\n",
    "        modified_lines.append(line)\n",
    "\n",
    "# Write the modified content back to the file\n",
    "with open(file_path, 'w') as file:\n",
    "    file.writelines(modified_lines)\n",
    "\n",
    "print(\"Line uncommented successfully if it was commented!\")"
   ]
  },
  {
   "cell_type": "code",
   "execution_count": null,
   "metadata": {},
   "outputs": [],
   "source": [
    "%%stata\n",
    "quietly specurve using \"readability_graph_specurve.yml\", desc noci99 width(8) height(10) relativesize(0.4) scale(0.8) title(\"Specification Curve Analsyis of Only Male\")"
   ]
  },
  {
   "cell_type": "code",
   "execution_count": null,
   "metadata": {},
   "outputs": [],
   "source": [
    "# File name\n",
    "file_path = '../code/readability_graph_specurve.yml'\n",
    "\n",
    "# Read, modify, and save the file\n",
    "with open(file_path, 'r') as file:\n",
    "    lines = file.readlines()\n",
    "\n",
    "# Modify the target line\n",
    "modified_lines = []\n",
    "for line in lines:\n",
    "    if line.strip() == \"- Only male: only_male\":\n",
    "        modified_lines.append(f\"#     {line}\")  # Comment out the line\n",
    "    else:\n",
    "        modified_lines.append(line)\n",
    "\n",
    "# Write the modified content back to the file\n",
    "with open(file_path, 'w') as file:\n",
    "    file.writelines(modified_lines)\n",
    "\n",
    "print(\"Line commented successfully!\")"
   ]
  },
  {
   "cell_type": "code",
   "execution_count": null,
   "metadata": {},
   "outputs": [],
   "source": [
    "# File name\n",
    "file_path = '../code/readability_graph_specurve.yml'\n",
    "\n",
    "# Read, modify, and save the file\n",
    "with open(file_path, 'r') as file:\n",
    "    lines = file.readlines()\n",
    "\n",
    "# Modify the target line\n",
    "modified_lines = []\n",
    "for line in lines:\n",
    "    if line.strip() == \"- ln(Dale chall): log_dale_chall\":\n",
    "        modified_lines.append(f\"#     {line}\")  # Comment out the line\n",
    "    else:\n",
    "        modified_lines.append(line)\n",
    "\n",
    "# Write the modified content back to the file\n",
    "with open(file_path, 'w') as file:\n",
    "    file.writelines(modified_lines)\n",
    "\n",
    "print(\"Line commented successfully!\")"
   ]
  }
 ],
 "metadata": {
  "kernelspec": {
   "display_name": "base",
   "language": "python",
   "name": "python3"
  },
  "language_info": {
   "codemirror_mode": {
    "name": "ipython",
    "version": 3
   },
   "file_extension": ".py",
   "mimetype": "text/x-python",
   "name": "python",
   "nbconvert_exporter": "python",
   "pygments_lexer": "ipython3",
   "version": "3.11.5"
  }
 },
 "nbformat": 4,
 "nbformat_minor": 2
}
