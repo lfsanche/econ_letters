{
 "cells": [
  {
   "cell_type": "code",
   "execution_count": 1,
   "metadata": {},
   "outputs": [],
   "source": [
    "%%capture\n",
    "import platform, stata_setup\n",
    "\n",
    "try:\n",
    "    stata_setup.config(\"C:/Program Files/Stata18/\", \"se\")\n",
    "\n",
    "except:\n",
    "    print('Stata18 is not installed!')\n",
    "    \n",
    "    if platform.system()=='Windows':\n",
    "        stata_setup.config(\"C:/Program Files/Stata17/\", \"mp\")  \n",
    "    elif platform.system()=='Darwin':\n",
    "        stata_setup.config(\"/Applications/Stata/\", \"mp\")\n",
    "    else: \n",
    "        stata_setup.config(\"/usr/local/stata17/\", \"mp\")"
   ]
  },
  {
   "cell_type": "markdown",
   "metadata": {},
   "source": [
    "______\n",
    "# Load data"
   ]
  },
  {
   "cell_type": "code",
   "execution_count": 2,
   "metadata": {},
   "outputs": [
    {
     "name": "stdout",
     "output_type": "stream",
     "text": [
      "\n"
     ]
    }
   ],
   "source": [
    "%%stata -qui\n",
    "\n",
    "use \"../data/data\", clear\n",
    "global save_tables \"../tables/\"\n",
    "set seed 123456"
   ]
  },
  {
   "cell_type": "markdown",
   "metadata": {},
   "source": [
    "_____\n",
    "# Generate some variables "
   ]
  },
  {
   "cell_type": "code",
   "execution_count": 3,
   "metadata": {},
   "outputs": [
    {
     "name": "stdout",
     "output_type": "stream",
     "text": [
      "Unknown #command\n",
      "\n"
     ]
    }
   ],
   "source": [
    "%%stata -qui\n",
    "\n",
    "# Generata some variables\n",
    "gen pages_females = log_num_pages*only_females\n",
    "gen pages_males = log_num_pages*only_males\n",
    "gen pages_prop = log_num_pages*prop_women\n",
    "gen authors_females = log_num_authors*only_females\n",
    "gen authors_males = log_num_authors*only_males\n",
    "gen authors_prop = log_num_authors*prop_women\n",
    "gen words_females = log_num_words*only_females\n",
    "gen words_males = log_num_words*only_males\n",
    "gen words_prop = log_num_words*prop_women\n",
    "\n",
    "gen female=.\n",
    "replace female=1 if only_females==1\n",
    "replace female=0 if only_males==1\n",
    "\n",
    "quietly tabulate year, generate(y_)\n",
    "quietly tabulate cluster, generate(c_)"
   ]
  },
  {
   "cell_type": "code",
   "execution_count": 4,
   "metadata": {},
   "outputs": [
    {
     "name": "stdout",
     "output_type": "stream",
     "text": [
      "Unknown #command\n",
      "\n"
     ]
    }
   ],
   "source": [
    "%%stata -qui\n",
    "\n",
    "# Generate interaction variables: Jel Code imputend/Observed and sex\n",
    "local journals  ecm jpe qje res  //aer based category\n",
    "\n",
    "local jel_imp a_imp b_imp c_imp  e_imp f_imp g_imp h_imp i_imp j_imp k_imp /// \n",
    "\t\tl_imp m_imp n_imp o_imp p_imp q_imp r_imp y_imp z_imp // d based case\n",
    "\n",
    "local jel_obs a_obs b_obs c_obs  e_obs f_obs g_obs h_obs i_obs j_obs k_obs /// \n",
    "\t\tl_obs m_obs n_obs o_obs p_obs q_obs r_obs y_obs z_obs // d based case\n",
    "\n",
    "local sex only_females only_males prop_women\n",
    "\n",
    "foreach y of local jel_imp {\n",
    "\tforeach s of local sex{\n",
    "\t\t\n",
    "\t\tgen `y'_`s'= `y'*`s'\n",
    "\t}    \n",
    "}\n",
    "\n",
    "foreach y of local jel_obs {\n",
    "\tforeach s of local sex{\n",
    "\t\t\n",
    "\t\tgen `y'_`s'= `y'*`s'\n",
    "\t}    \n",
    "}\n",
    "\n",
    "local jel_female1 a_imp_only_females b_imp_only_females c_imp_only_females d_imp_only_females /// \n",
    "\t\t\t\te_imp_only_females f_imp_only_females g_imp_only_females h_imp_only_females /// \n",
    "\t\t\t\ti_imp_only_females j_imp_only_females k_imp_only_females l_imp_only_females /// \n",
    "\t\t\t\tm_imp_only_females n_imp_only_females o_imp_only_females p_imp_only_females ///\n",
    "\t\t\t\tq_imp_only_females r_imp_only_females y_imp_only_females z_imp_only_females\n",
    "\n",
    "local jel_prop1 a_imp_prop_women b_imp_prop_women c_imp_prop_women d_imp_prop_women /// \n",
    "\t\t\t\te_imp_prop_women f_imp_prop_women g_imp_prop_women h_imp_prop_women /// \n",
    "\t\t\t\ti_imp_prop_women j_imp_prop_women k_imp_prop_women l_imp_prop_women /// \n",
    "\t\t\t\tm_imp_prop_women n_imp_prop_women o_imp_prop_women p_imp_prop_women /// \n",
    "\t\t\t\tq_imp_prop_women r_imp_prop_women y_imp_prop_women z_imp_prop_women\n",
    "\n",
    "local jel_male1 a_imp_only_males b_imp_only_males c_imp_only_males d_imp_only_males /// \n",
    "\t\t\t\te_imp_only_males f_imp_only_males g_imp_only_males h_imp_only_males /// \n",
    "\t\t\t\ti_imp_only_males j_imp_only_males k_imp_only_males l_imp_only_males /// \n",
    "\t\t\t\tm_imp_only_males n_imp_only_males o_imp_only_males p_imp_only_males /// \n",
    "\t\t\t\tq_imp_only_males r_imp_only_males y_imp_only_males z_imp_only_males \n",
    "\n",
    "local jel_female2 a_obs_only_females b_obs_only_females c_obs_only_females d_obs_only_females ///\n",
    "\t\t\t\te_obs_only_females f_obs_only_females g_obs_only_females h_obs_only_females /// \n",
    "\t\t\t\ti_obs_only_females j_obs_only_females k_obs_only_females l_obs_only_females /// \n",
    "\t\t\t\tm_obs_only_females n_obs_only_females o_obs_only_females p_obs_only_females /// \n",
    "\t\t\t\tq_obs_only_females r_obs_only_females y_obs_only_females z_obs_only_females\n",
    "\n",
    "local jel_prop2 a_obs_prop_women b_obs_prop_women c_obs_prop_women d_obs_prop_women /// \n",
    "\t\t\t\te_obs_prop_women f_obs_prop_women g_obs_prop_women h_obs_prop_women /// \n",
    "\t\t\t\ti_obs_prop_women j_obs_prop_women k_obs_prop_women l_obs_prop_women /// \n",
    "\t\t\t\tm_obs_prop_women n_obs_prop_women o_obs_prop_women p_obs_prop_women /// \n",
    "\t\t\t\tq_obs_prop_women r_obs_prop_women y_obs_prop_women z_obs_prop_women\n",
    "\n",
    "local jel_male2 a_obs_only_males b_obs_only_males c_obs_only_males d_obs_only_males /// \n",
    "\t\t\t\te_obs_only_males f_obs_only_males g_obs_only_males h_obs_only_males /// \n",
    "\t\t\t\ti_obs_only_males j_obs_only_males k_obs_only_males l_obs_only_males /// \n",
    "\t\t\t\tm_obs_only_males n_obs_only_males o_obs_only_males p_obs_only_males ///\n",
    "\t\t\t\tq_obs_only_males r_obs_only_males y_obs_only_males z_obs_only_males\n",
    "\n"
   ]
  },
  {
   "cell_type": "code",
   "execution_count": 5,
   "metadata": {},
   "outputs": [
    {
     "name": "stdout",
     "output_type": "stream",
     "text": [
      "Unknown #command\n",
      "\n"
     ]
    }
   ],
   "source": [
    "%%stata -qui\n",
    "\n",
    "# Relabel variables - This is necessary to get table of summarize statistics\n",
    "\n",
    "label variable log_flesch_kincaid_grade_level \"log(F-K grade)\"\n",
    "label variable log_dale_chall \"log(Dale-Chall)\"\n",
    "label variable only_females \"\\hspace{3mm}Female\"\n",
    "label variable only_males \"\\hspace{3mm}Male\"\n",
    "label variable both_genders \"\\hspace{3mm}Both genders\" \n",
    "label variable num_authors \"\\hspace{3mm}Number of authors\"\n",
    "label variable log_num_authors \"\\hspace{3mm}log(Number authors)\"\n",
    "label variable num_words \"\\hspace{3mm}Number of words\"\n",
    "label variable log_num_words \"\\hspace{3mm}log(Number of words)\"\n",
    "label variable num_pages \"\\hspace{3mm}Number of pages\"\n",
    "label variable log_num_pages \"\\hspace{3mm}log(Number pages)\"\n",
    "label variable num_sentences \"\\hspace{3mm}Number of sentences\"\n",
    "label variable num_syllables \"\\hspace{3mm}Number of syllables\"\n",
    "label variable log_num_sentences \"\\hspace{3mm}log(Number of sentences)\"\n",
    "label variable log_num_syllables \"\\hspace{3mm}log(Number of syllables)\"\n",
    "label variable prop_women \"\\hspace{3mm}Share of women\" \n",
    "label variable jel_flag \"\\hspace{3mm}Papers with  jel code\"\n",
    "label variable isolated \"\\hspace{3mm}Papers not connected\"\n",
    "label variable aer \"\\hspace{3mm}American Economic Review\"\n",
    "label variable ecm \"\\hspace{3mm}Econometrica\"\n",
    "label variable jpe \"\\hspace{3mm}Journal of Political Economy\"\n",
    "label variable qje \"\\hspace{3mm}The Quarterly Journal of Economics\"\n",
    "label variable res \"\\hspace{3mm}Review Economic Studies\"\n",
    "\n",
    "label variable pages_females \"\\hspace{3mm}log(Number of pages) $\\times$ Female\"\n",
    "label variable pages_males \"\\hspace{3mm}log(Number of pages) $\\times$ Male\"\n",
    "label variable pages_prop \"\\hspace{3mm}log(Number of pages) $\\times$ Share of females\"\n",
    "label variable authors_females \"\\hspace{3mm}log(Number of authors) $\\times$ Female\"\n",
    "label variable authors_males \"\\hspace{3mm}log(Number of authors) $\\times$ Male\"\n",
    "label variable authors_prop \"\\hspace{3mm}log(Number of authors) $\\time$ Share of females\"\n",
    "label variable words_females \"\\hspace{3mm}log(Number of words) $\\times$ Female\"\n",
    "label variable words_males \"\\hspace{3mm}log(Number of words) $\\times$ Male\"\n",
    "label variable words_prop \"\\hspace{3mm}log(Number of words) $\\time$ Share of females\""
   ]
  },
  {
   "cell_type": "code",
   "execution_count": 6,
   "metadata": {},
   "outputs": [
    {
     "name": "stdout",
     "output_type": "stream",
     "text": [
      "\n"
     ]
    }
   ],
   "source": [
    "%%stata -qui\n",
    "\n",
    "rename log_flesch_kincaid_grade_level FKG\n",
    "rename log_dale_chall DCH"
   ]
  },
  {
   "cell_type": "markdown",
   "metadata": {},
   "source": [
    "______\n",
    "# Table 3: Kitagawa–Blinder–Oaxaca Decomposition.\n",
    "### Main Manuscript | page 3"
   ]
  },
  {
   "cell_type": "code",
   "execution_count": 7,
   "metadata": {},
   "outputs": [
    {
     "name": "stdout",
     "output_type": "stream",
     "text": [
      "\n"
     ]
    }
   ],
   "source": [
    "%%stata -qui\n",
    "\n",
    "* OAXACA-BLINDER DESCOMPOSITION\n",
    "\n",
    "quietly oaxaca FKG log_num_authors log_num_pages  y_2-y_20 c_2-c_200  `journals' `jel_imp' jel_flag , by(female) vce(cluster cluster)  relax\n",
    "est store m1\n",
    "\n",
    "quietly oaxaca DCH log_num_authors log_num_pages  y_2-y_20  c_2-c_215  `journals' `jel_imp' jel_flag , by(female) vce(cluster cluster) relax\n",
    "est store m2\n",
    "\n",
    "esttab m1 m2  using \"$save_tables/oaxaca.tex\",  replace b(4) se(4)   star(* 0.10 ** 0.05) nonumbers mtitle(\"log(F-K grade)\" \"log(Dale-Chall)\") "
   ]
  },
  {
   "cell_type": "markdown",
   "metadata": {},
   "source": [
    "_______\n",
    "# Table 4. Double-selection Lasso linear estimation results, JEL codes imputed\n",
    "### Main Manuscript | page 3"
   ]
  },
  {
   "cell_type": "code",
   "execution_count": 8,
   "metadata": {},
   "outputs": [
    {
     "name": "stdout",
     "output_type": "stream",
     "text": [
      "\n"
     ]
    }
   ],
   "source": [
    "%%stata -qui\n",
    "\n",
    "quietly dsregress FKG  log_num_authors  log_num_pages both_genders only_females  , ///\n",
    "\t\t\tcontrols(`journals' `jel_imp' y_2-y_20  c_2-c_215  jel_flag ) vce(cluster cluster) rseed(42)\n",
    "\t\t\t\n",
    "\t\testadd scalar w1 = e(N) \n",
    "\t\testadd scalar w2 = e(k_controls) \n",
    "\t\testadd scalar w3 = e(k_controls_sel)\n",
    "\t\testadd scalar w4 = e(chi2)\n",
    "\t\test store m1\n",
    "\n",
    "quietly dsregress FKG  \tlog_num_authors  log_num_pages both_genders prop_women   , ///\n",
    "\t\t\tcontrols(`journals' `jel_imp' y_2-y_20  c_2-c_215  jel_flag ) vce(cluster cluster) rseed(42)\n",
    "\t\t\t\n",
    "\t\testadd scalar w1 = e(N) \n",
    "\t\testadd scalar w2 = e(k_controls) \n",
    "\t\testadd scalar w3 = e(k_controls_sel)\n",
    "\t\testadd scalar w4 = e(chi2)\n",
    "\t\test store m2\n",
    "\n",
    "quietly dsregress FKG  log_num_authors  log_num_pages both_genders only_males  , ///\n",
    "\t\t\tcontrols(`journals' `jel_imp' y_2-y_20  c_2-c_215  jel_flag ) vce(cluster cluster) rseed(42)\n",
    "\t\t\t\n",
    "\t\testadd scalar w1 = e(N) \n",
    "\t\testadd scalar w2 = e(k_controls) \n",
    "\t\testadd scalar w3 = e(k_controls_sel)\n",
    "\t\testadd scalar w4 = e(chi2)\n",
    "\t\test store m3\n",
    "\t\t\t\n",
    "\n",
    "esttab m1 m2 m3  using \"$save_tables\\dgregress_FKG_JI.tex\",  replace b(4) se(4) star(* 0.10 ** 0.05) r2   ///\n",
    " \t\tstats(N k_controls k_controls_sel chi2, label( \"Observations\" \"Number potential controls\" ///\n",
    " \t\t\"Number controls selected\" \"$\\chi^2(4)$\") fmt( 0 0 0 %9.3f)) label"
   ]
  },
  {
   "cell_type": "code",
   "execution_count": 9,
   "metadata": {},
   "outputs": [
    {
     "name": "stdout",
     "output_type": "stream",
     "text": [
      "\n",
      "--------------------------------------------\n",
      "    Variable |   m1        m2        m3     \n",
      "-------------+------------------------------\n",
      "log_num_au~s | -0.0068   -0.0070   -0.0070  \n",
      "             |  0.0044    0.0044    0.0045  \n",
      "log_num_pa~s |  0.0178    0.0177    0.0175  \n",
      "             |  0.0033    0.0033    0.0033  \n",
      "both_genders | -0.0075    0.0003    0.0154  \n",
      "             |  0.0044    0.0039    0.0063  \n",
      "only_females | -0.0200                      \n",
      "             |  0.0055                      \n",
      "  prop_women |           -0.0180            \n",
      "             |            0.0055            \n",
      "  only_males |                      0.0232  \n",
      "             |                      0.0067  \n",
      "-------------+------------------------------\n",
      "           N |    4988      4988      4988  \n",
      "--------------------------------------------\n",
      "                                Legend: b/se\n"
     ]
    }
   ],
   "source": [
    "%%stata\n",
    "estimates table m1 m2 m3, b(%7.4f) se(%7.4f)  stats(N)"
   ]
  }
 ],
 "metadata": {
  "kernelspec": {
   "display_name": "Python 3",
   "language": "python",
   "name": "python3"
  },
  "language_info": {
   "codemirror_mode": {
    "name": "ipython",
    "version": 3
   },
   "file_extension": ".py",
   "mimetype": "text/x-python",
   "name": "python",
   "nbconvert_exporter": "python",
   "pygments_lexer": "ipython3",
   "version": "3.9.6"
  }
 },
 "nbformat": 4,
 "nbformat_minor": 2
}
